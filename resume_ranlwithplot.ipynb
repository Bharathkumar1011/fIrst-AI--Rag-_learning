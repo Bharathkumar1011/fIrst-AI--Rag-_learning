{
  "nbformat": 4,
  "nbformat_minor": 0,
  "metadata": {
    "colab": {
      "provenance": [],
      "authorship_tag": "ABX9TyOC16j29nNII7o4Ci+qTOuB",
      "include_colab_link": true
    },
    "kernelspec": {
      "name": "python3",
      "display_name": "Python 3"
    },
    "language_info": {
      "name": "python"
    }
  },
  "cells": [
    {
      "cell_type": "markdown",
      "metadata": {
        "id": "view-in-github",
        "colab_type": "text"
      },
      "source": [
        "<a href=\"https://colab.research.google.com/github/Bharathkumar1011/fIrst-AI--Rag-_learning/blob/main/resume_ranlwithplot.ipynb\" target=\"_parent\"><img src=\"https://colab.research.google.com/assets/colab-badge.svg\" alt=\"Open In Colab\"/></a>"
      ]
    },
    {
      "cell_type": "code",
      "source": [
        "candidates_data = [{'Name': 'col', \"Education\": \"b.tech\", \"Experience\": '0', 'Skills': ['python', 'Data Analysis', 'Data Science',], 'Certification':'0'},\n",
        "             {'Name': 'pol', \"Education\": [\"b.tech\",'M.sc'], \"Experience\": '4', 'Skills': ['python', 'Data Analysis', 'Data Science', 'SQL'], 'Certification':'2'}]"
      ],
      "metadata": {
        "id": "u_miE2fvkwO_"
      },
      "execution_count": 46,
      "outputs": []
    },
    {
      "cell_type": "code",
      "source": [
        "job_description = 'Looking for a Data Scientist with expertise in Python, Data Analysis, Data Science, SQL. Must have 5+ years of experience and hold certifications like 3. Educational qualifications required are: B.Tech, M.Sc.'\n",
        "\n"
      ],
      "metadata": {
        "id": "DLD8rcJnNkko"
      },
      "execution_count": 47,
      "outputs": []
    },
    {
      "cell_type": "code",
      "source": [
        "from sentence_transformers import SentenceTransformer, util\n",
        "\n",
        "# Load pre-trained Sentence Transformer model\n",
        "# model = SentenceTransformer('all-MiniLM-L6-v2')\n",
        "models = ['all-MiniLM-L6-v2','paraphrase-albert-small-v2','all-mpnet-base-v2']\n",
        "for model_name in models:\n",
        "  model = SentenceTransformer(model_name)\n",
        "\n",
        "def match_resume_to_job(resume: str, job_description: str):\n",
        "    \"\"\"\n",
        "    Compare a resume to a job description and compute similarity score.\n",
        "    \"\"\"\n",
        "    embeddings = model.encode([resume, job_description])\n",
        "    similarity = util.cos_sim(embeddings[0], embeddings[1])\n",
        "    return similarity.item()"
      ],
      "metadata": {
        "id": "DMObvMfgNnwM"
      },
      "execution_count": 89,
      "outputs": []
    },
    {
      "cell_type": "code",
      "source": [
        "\n",
        "# Another Function for your ref:\n",
        "def rank_candidates(candidates, job_description):\n",
        "    \"\"\"\n",
        "    Rank candidates based on resume matching and extracted data.\n",
        "    \"\"\"\n",
        "    scores = []\n",
        "    for model_name in models:\n",
        "     model = SentenceTransformer(model_name)\n",
        "     for candidate in candidates:\n",
        "          skill_score = match_resume_to_job(\" \".join(candidate[\"Skills\"]), job_description)\n",
        "          experience_score = match_resume_to_job(candidate[\"Experience\"], job_description)\n",
        "          education_score = match_resume_to_job(\" \".join(candidate[\"Education\"]), job_description)\n",
        "\n",
        "          total_score = 0.4 * skill_score + 0.3 * experience_score + 0.3 * education_score\n",
        "          scores.append({\"Name\": candidate[\"Name\"], \"Score\": total_score})\n",
        "          scores.append({\"name\": model_name})\n",
        "     return sorted(scores, key=lambda x: x[\"Score\"], reverse=True)"
      ],
      "metadata": {
        "id": "qlW22-r-NqE6"
      },
      "execution_count": 108,
      "outputs": []
    },
    {
      "cell_type": "code",
      "source": [
        "type(candidates_data)"
      ],
      "metadata": {
        "colab": {
          "base_uri": "https://localhost:8080/"
        },
        "id": "VF7yYMzjdizK",
        "outputId": "32fdb73d-2ff6-482c-f8aa-88b0b4c478bd"
      },
      "execution_count": 109,
      "outputs": [
        {
          "output_type": "execute_result",
          "data": {
            "text/plain": [
              "list"
            ]
          },
          "metadata": {},
          "execution_count": 109
        }
      ]
    },
    {
      "cell_type": "code",
      "source": [
        "candidates_data[0][\"Skills\"]"
      ],
      "metadata": {
        "colab": {
          "base_uri": "https://localhost:8080/"
        },
        "id": "xkcybZ2ucICJ",
        "outputId": "269a3e1d-16a3-4ee5-803e-cefd28287698"
      },
      "execution_count": 110,
      "outputs": [
        {
          "output_type": "execute_result",
          "data": {
            "text/plain": [
              "['python', 'Data Analysis', 'Data Science']"
            ]
          },
          "metadata": {},
          "execution_count": 110
        }
      ]
    },
    {
      "cell_type": "code",
      "source": [
        "# similarity_score = match_resume_to_job(resume22, job_des33)\n",
        "# similarity_score"
      ],
      "metadata": {
        "id": "_zVwLL9kNzPh"
      },
      "execution_count": 111,
      "outputs": []
    },
    {
      "cell_type": "code",
      "source": [
        "order = rank_candidates(candidates_data,job_description)\n",
        "order"
      ],
      "metadata": {
        "colab": {
          "base_uri": "https://localhost:8080/",
          "height": 269
        },
        "id": "cOJ6a-MpNwvK",
        "outputId": "df350f26-5d69-49b5-eadd-26a57ea2ad1e"
      },
      "execution_count": 112,
      "outputs": [
        {
          "output_type": "error",
          "ename": "KeyError",
          "evalue": "'Score'",
          "traceback": [
            "\u001b[0;31m---------------------------------------------------------------------------\u001b[0m",
            "\u001b[0;31mKeyError\u001b[0m                                  Traceback (most recent call last)",
            "\u001b[0;32m<ipython-input-112-3e6609c698f9>\u001b[0m in \u001b[0;36m<cell line: 1>\u001b[0;34m()\u001b[0m\n\u001b[0;32m----> 1\u001b[0;31m \u001b[0morder\u001b[0m \u001b[0;34m=\u001b[0m \u001b[0mrank_candidates\u001b[0m\u001b[0;34m(\u001b[0m\u001b[0mcandidates_data\u001b[0m\u001b[0;34m,\u001b[0m\u001b[0mjob_description\u001b[0m\u001b[0;34m)\u001b[0m\u001b[0;34m\u001b[0m\u001b[0;34m\u001b[0m\u001b[0m\n\u001b[0m\u001b[1;32m      2\u001b[0m \u001b[0morder\u001b[0m\u001b[0;34m\u001b[0m\u001b[0;34m\u001b[0m\u001b[0m\n",
            "\u001b[0;32m<ipython-input-108-f5768a259f43>\u001b[0m in \u001b[0;36mrank_candidates\u001b[0;34m(candidates, job_description)\u001b[0m\n\u001b[1;32m     15\u001b[0m           \u001b[0mscores\u001b[0m\u001b[0;34m.\u001b[0m\u001b[0mappend\u001b[0m\u001b[0;34m(\u001b[0m\u001b[0;34m{\u001b[0m\u001b[0;34m\"Name\"\u001b[0m\u001b[0;34m:\u001b[0m \u001b[0mcandidate\u001b[0m\u001b[0;34m[\u001b[0m\u001b[0;34m\"Name\"\u001b[0m\u001b[0;34m]\u001b[0m\u001b[0;34m,\u001b[0m \u001b[0;34m\"Score\"\u001b[0m\u001b[0;34m:\u001b[0m \u001b[0mtotal_score\u001b[0m\u001b[0;34m}\u001b[0m\u001b[0;34m)\u001b[0m\u001b[0;34m\u001b[0m\u001b[0;34m\u001b[0m\u001b[0m\n\u001b[1;32m     16\u001b[0m           \u001b[0mscores\u001b[0m\u001b[0;34m.\u001b[0m\u001b[0mappend\u001b[0m\u001b[0;34m(\u001b[0m\u001b[0;34m{\u001b[0m\u001b[0;34m\"name\"\u001b[0m\u001b[0;34m:\u001b[0m \u001b[0mmodel_name\u001b[0m\u001b[0;34m}\u001b[0m\u001b[0;34m)\u001b[0m\u001b[0;34m\u001b[0m\u001b[0;34m\u001b[0m\u001b[0m\n\u001b[0;32m---> 17\u001b[0;31m      \u001b[0;32mreturn\u001b[0m \u001b[0msorted\u001b[0m\u001b[0;34m(\u001b[0m\u001b[0mscores\u001b[0m\u001b[0;34m,\u001b[0m \u001b[0mkey\u001b[0m\u001b[0;34m=\u001b[0m\u001b[0;32mlambda\u001b[0m \u001b[0mx\u001b[0m\u001b[0;34m:\u001b[0m \u001b[0mx\u001b[0m\u001b[0;34m[\u001b[0m\u001b[0;34m\"Score\"\u001b[0m\u001b[0;34m]\u001b[0m\u001b[0;34m,\u001b[0m \u001b[0mreverse\u001b[0m\u001b[0;34m=\u001b[0m\u001b[0;32mTrue\u001b[0m\u001b[0;34m)\u001b[0m\u001b[0;34m\u001b[0m\u001b[0;34m\u001b[0m\u001b[0m\n\u001b[0m",
            "\u001b[0;32m<ipython-input-108-f5768a259f43>\u001b[0m in \u001b[0;36m<lambda>\u001b[0;34m(x)\u001b[0m\n\u001b[1;32m     15\u001b[0m           \u001b[0mscores\u001b[0m\u001b[0;34m.\u001b[0m\u001b[0mappend\u001b[0m\u001b[0;34m(\u001b[0m\u001b[0;34m{\u001b[0m\u001b[0;34m\"Name\"\u001b[0m\u001b[0;34m:\u001b[0m \u001b[0mcandidate\u001b[0m\u001b[0;34m[\u001b[0m\u001b[0;34m\"Name\"\u001b[0m\u001b[0;34m]\u001b[0m\u001b[0;34m,\u001b[0m \u001b[0;34m\"Score\"\u001b[0m\u001b[0;34m:\u001b[0m \u001b[0mtotal_score\u001b[0m\u001b[0;34m}\u001b[0m\u001b[0;34m)\u001b[0m\u001b[0;34m\u001b[0m\u001b[0;34m\u001b[0m\u001b[0m\n\u001b[1;32m     16\u001b[0m           \u001b[0mscores\u001b[0m\u001b[0;34m.\u001b[0m\u001b[0mappend\u001b[0m\u001b[0;34m(\u001b[0m\u001b[0;34m{\u001b[0m\u001b[0;34m\"name\"\u001b[0m\u001b[0;34m:\u001b[0m \u001b[0mmodel_name\u001b[0m\u001b[0;34m}\u001b[0m\u001b[0;34m)\u001b[0m\u001b[0;34m\u001b[0m\u001b[0;34m\u001b[0m\u001b[0m\n\u001b[0;32m---> 17\u001b[0;31m      \u001b[0;32mreturn\u001b[0m \u001b[0msorted\u001b[0m\u001b[0;34m(\u001b[0m\u001b[0mscores\u001b[0m\u001b[0;34m,\u001b[0m \u001b[0mkey\u001b[0m\u001b[0;34m=\u001b[0m\u001b[0;32mlambda\u001b[0m \u001b[0mx\u001b[0m\u001b[0;34m:\u001b[0m \u001b[0mx\u001b[0m\u001b[0;34m[\u001b[0m\u001b[0;34m\"Score\"\u001b[0m\u001b[0;34m]\u001b[0m\u001b[0;34m,\u001b[0m \u001b[0mreverse\u001b[0m\u001b[0;34m=\u001b[0m\u001b[0;32mTrue\u001b[0m\u001b[0;34m)\u001b[0m\u001b[0;34m\u001b[0m\u001b[0;34m\u001b[0m\u001b[0m\n\u001b[0m",
            "\u001b[0;31mKeyError\u001b[0m: 'Score'"
          ]
        }
      ]
    },
    {
      "cell_type": "code",
      "source": [
        "import matplotlib.pyplot as plt\n"
      ],
      "metadata": {
        "id": "0wa-OdUjN9oZ"
      },
      "execution_count": 100,
      "outputs": []
    },
    {
      "cell_type": "code",
      "source": [
        "import numpy as np"
      ],
      "metadata": {
        "id": "Pn1ZwnfWhamR"
      },
      "execution_count": 63,
      "outputs": []
    },
    {
      "cell_type": "code",
      "source": [
        "Names = [ 'pol','col']\n",
        "scores = [0.3174015492200852,0.22011882849037648]\n",
        "\n",
        "plt.bar(Names, scores)\n",
        "plt.axhline(y=1, color='red', linestyle='--', label='Max Similarity (1)')\n",
        "\n",
        "plt.title('similarty score')\n",
        "plt.xlabel('names')\n",
        "plt.xlabel('scores')\n",
        "plt.show()"
      ],
      "metadata": {
        "colab": {
          "base_uri": "https://localhost:8080/",
          "height": 472
        },
        "id": "bt-aoYHOeU5-",
        "outputId": "0b1a7f0b-ea5c-450a-b19e-370d13664e19"
      },
      "execution_count": 73,
      "outputs": [
        {
          "output_type": "display_data",
          "data": {
            "text/plain": [
              "<Figure size 640x480 with 1 Axes>"
            ],
            "image/png": "[encoded data removed]"
          },
          "metadata": {}
        }
      ]
    },
    {
      "cell_type": "code",
      "source": [
        "import numpy as np\n",
        "\n",
        "fruits = ['Apples', 'Bananas', 'Cherries', 'Dates']\n",
        "sales = [400, 350, 300, 450]\n",
        "\n",
        "plt.bar(fruits, sales)\n",
        "plt.title('Fruit Sales')\n",
        "plt.xlabel('Fruits')\n",
        "plt.ylabel('Sales')\n",
        "plt.show()"
      ],
      "metadata": {
        "colab": {
          "base_uri": "https://localhost:8080/",
          "height": 472
        },
        "id": "9qEN4iHceoRw",
        "outputId": "8dbc6fe2-77c3-4ebd-d9ab-04dea6278e2b"
      },
      "execution_count": 65,
      "outputs": [
        {
          "output_type": "display_data",
          "data": {
            "text/plain": [
              "<Figure size 640x480 with 1 Axes>"
            ],
            "image/png": "[encoded data removed]"
          },
          "metadata": {}
        }
      ]
    },
    {
      "cell_type": "code",
      "source": [],
      "metadata": {
        "id": "Rl3pD0dzhqDL"
      },
      "execution_count": null,
      "outputs": []
    }
  ]
}